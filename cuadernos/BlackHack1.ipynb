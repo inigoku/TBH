{
  "cells": [
    {
      "cell_type": "markdown",
      "metadata": {
        "colab_type": "text",
        "id": "view-in-github"
      },
      "source": [
        "<a href=\"https://colab.research.google.com/github/inigoku/TBH/blob/main/BlackHack1.ipynb\" target=\"_parent\"><img src=\"https://colab.research.google.com/assets/colab-badge.svg\" alt=\"Open In Colab\"/></a>"
      ]
    },
    {
      "cell_type": "markdown",
      "metadata": {
        "id": "MCG4x39XiKqJ"
      },
      "source": []
    },
    {
      "cell_type": "code",
      "execution_count": 1,
      "metadata": {
        "id": "1e3Ft25pKspn"
      },
      "outputs": [],
      "source": [
        "import random\n",
        "\n",
        "# Clase base para dados\n",
        "class D:\n",
        "  def __init__(self, nOfDice, nOfSides):\n",
        "    self.nOfDice = nOfDice\n",
        "    self.nOfSides = nOfSides\n",
        "\n",
        "  def roll(self):\n",
        "    return sum(random.randint(1, self.nOfSides) for i in range(self.nOfDice))"
      ]
    },
    {
      "cell_type": "code",
      "execution_count": 2,
      "metadata": {
        "id": "uL3skSxuiUBQ"
      },
      "outputs": [
        {
          "ename": "SyntaxError",
          "evalue": "expected ':' (2014290672.py, line 12)",
          "output_type": "error",
          "traceback": [
            "\u001b[1;36m  Cell \u001b[1;32mIn[2], line 12\u001b[1;36m\u001b[0m\n\u001b[1;33m    if self.damage.isinstance\u001b[0m\n\u001b[1;37m                             ^\u001b[0m\n\u001b[1;31mSyntaxError\u001b[0m\u001b[1;31m:\u001b[0m expected ':'\n"
          ]
        }
      ],
      "source": [
        "# Clase base para criaturas\n",
        "class Creature:\n",
        "    def __init__(self, name, hd, hp, damage):\n",
        "        self.name = name\n",
        "        self.hd = hd\n",
        "        self.maxHp = hp\n",
        "        self.currentHp = hp\n",
        "        self.damage = damage\n",
        "        self.alive = True\n",
        "\n",
        "    def getDamage(self):\n",
        "        if self.damage.isinstance\n",
        "        return sum(i.roll() for i in self.damage)"
      ]
    },
    {
      "cell_type": "code",
      "execution_count": null,
      "metadata": {
        "id": "8oOjB5g1iMFR"
      },
      "outputs": [],
      "source": [
        "# Clase para crear personajes\n",
        "class Character(Creature):\n",
        "    def __init__(self, name, hd, hp, damage):\n",
        "        Creature.__init__(self, name, hd, hp, damage)\n",
        "        self.STR = 15\n",
        "        self.OofA = False\n",
        "\n",
        "    def takeDamage(self, enemy):\n",
        "        tmpDamage = enemy.getDamage()\n",
        "        self.currentHp -= tmpDamage\n",
        "        print(f\"{self.name} recibe {tmpDamage} puntos de daño.\")\n",
        "        if (self.currentHp <= 0):\n",
        "          print(f\"¡{self.name} cae inconsciente!\")\n",
        "          self.OofA = True\n",
        "          self.currentHp = 0\n",
        "\n",
        "    def attack(self, target):\n",
        "        print(f\"{self.name} ataca a {target.name}\")\n",
        "        if D(1,20).roll() < self.STR:\n",
        "          target.takeDamage(self)\n",
        "        else:\n",
        "          print(f\"¡{self.name} falla!\")\n",
        "\n",
        "    def defendFrom(self, enemy):\n",
        "        print(f\"{enemy.name} ataca a {self.name}\")\n",
        "        if D(1,20).roll() < self.STR:\n",
        "          self.takeDamage(enemy)\n",
        "        else:\n",
        "          print(f\"¡{enemy.name} falla!\")"
      ]
    },
    {
      "cell_type": "code",
      "execution_count": null,
      "metadata": {
        "id": "JppSwBZQCq91"
      },
      "outputs": [],
      "source": [
        "# Clase para crear monstruos\n",
        "class Monster(Creature):\n",
        "    def __init__(self, name, hd, damage):\n",
        "        Creature.__init__(self, name, hd, D(hd,8).roll(), damage)\n",
        "\n",
        "    def takeDamage(self, enemy):\n",
        "        tmpDamage = enemy.getDamage()\n",
        "        self.currentHp -= tmpDamage\n",
        "        print(f\"{self.name} recibe {tmpDamage} puntos de daño.\")\n",
        "        if (self.currentHp <= 0):\n",
        "          print(f\"¡{self.name} ha muerto!\")\n",
        "          self.alive = False\n",
        "          self.currentHp = 0"
      ]
    },
    {
      "cell_type": "code",
      "execution_count": null,
      "metadata": {},
      "outputs": [],
      "source": []
    },
    {
      "cell_type": "code",
      "execution_count": null,
      "metadata": {
        "colab": {
          "base_uri": "https://localhost:8080/"
        },
        "id": "AN5O2IZl2OmS",
        "outputId": "4a110e0b-05f7-45bd-a075-7a3751a5f9be"
      },
      "outputs": [
        {
          "name": "stdout",
          "output_type": "stream",
          "text": [
            "Eve ataca a Frost Dragon\n",
            "¡Eve falla!\n",
            "Frost Dragon ataca a Eve\n"
          ]
        },
        {
          "ename": "TypeError",
          "evalue": "'int' object is not iterable",
          "output_type": "error",
          "traceback": [
            "\u001b[1;31m---------------------------------------------------------------------------\u001b[0m",
            "\u001b[1;31mTypeError\u001b[0m                                 Traceback (most recent call last)",
            "Cell \u001b[1;32mIn[31], line 38\u001b[0m\n\u001b[0;32m     35\u001b[0m             \u001b[39mbreak\u001b[39;00m\n\u001b[0;32m     37\u001b[0m \u001b[39m# Iniciar juego\u001b[39;00m\n\u001b[1;32m---> 38\u001b[0m play_game()\n",
            "Cell \u001b[1;32mIn[31], line 32\u001b[0m, in \u001b[0;36mplay_game\u001b[1;34m()\u001b[0m\n\u001b[0;32m     29\u001b[0m     \u001b[39mprint\u001b[39m(\u001b[39mf\u001b[39m\u001b[39m\"\u001b[39m\u001b[39m{\u001b[39;00menemy\u001b[39m.\u001b[39mname\u001b[39m}\u001b[39;00m\u001b[39m ha sido derrotado.\u001b[39m\u001b[39m\"\u001b[39m)\n\u001b[0;32m     30\u001b[0m     \u001b[39mbreak\u001b[39;00m\n\u001b[1;32m---> 32\u001b[0m player\u001b[39m.\u001b[39;49mdefendFrom(enemy)\n\u001b[0;32m     33\u001b[0m \u001b[39mif\u001b[39;00m player\u001b[39m.\u001b[39mOofA \u001b[39m==\u001b[39m \u001b[39mTrue\u001b[39;00m:\n\u001b[0;32m     34\u001b[0m     \u001b[39mprint\u001b[39m(\u001b[39mf\u001b[39m\u001b[39m\"\u001b[39m\u001b[39m{\u001b[39;00mplayer\u001b[39m.\u001b[39mname\u001b[39m}\u001b[39;00m\u001b[39m ha sido derrotado.\u001b[39m\u001b[39m\"\u001b[39m)\n",
            "Cell \u001b[1;32mIn[28], line 27\u001b[0m, in \u001b[0;36mCharacter.defendFrom\u001b[1;34m(self, enemy)\u001b[0m\n\u001b[0;32m     25\u001b[0m \u001b[39mprint\u001b[39m(\u001b[39mf\u001b[39m\u001b[39m\"\u001b[39m\u001b[39m{\u001b[39;00menemy\u001b[39m.\u001b[39mname\u001b[39m}\u001b[39;00m\u001b[39m ataca a \u001b[39m\u001b[39m{\u001b[39;00m\u001b[39mself\u001b[39m\u001b[39m.\u001b[39mname\u001b[39m}\u001b[39;00m\u001b[39m\"\u001b[39m)\n\u001b[0;32m     26\u001b[0m \u001b[39mif\u001b[39;00m D(\u001b[39m1\u001b[39m,\u001b[39m20\u001b[39m)\u001b[39m.\u001b[39mroll() \u001b[39m<\u001b[39m \u001b[39mself\u001b[39m\u001b[39m.\u001b[39mSTR:\n\u001b[1;32m---> 27\u001b[0m   \u001b[39mself\u001b[39;49m\u001b[39m.\u001b[39;49mtakeDamage(enemy)\n\u001b[0;32m     28\u001b[0m \u001b[39melse\u001b[39;00m:\n\u001b[0;32m     29\u001b[0m   \u001b[39mprint\u001b[39m(\u001b[39mf\u001b[39m\u001b[39m\"\u001b[39m\u001b[39m¡\u001b[39m\u001b[39m{\u001b[39;00menemy\u001b[39m.\u001b[39mname\u001b[39m}\u001b[39;00m\u001b[39m falla!\u001b[39m\u001b[39m\"\u001b[39m)\n",
            "Cell \u001b[1;32mIn[28], line 9\u001b[0m, in \u001b[0;36mCharacter.takeDamage\u001b[1;34m(self, enemy)\u001b[0m\n\u001b[0;32m      8\u001b[0m \u001b[39mdef\u001b[39;00m \u001b[39mtakeDamage\u001b[39m(\u001b[39mself\u001b[39m, enemy):\n\u001b[1;32m----> 9\u001b[0m     tmpDamage \u001b[39m=\u001b[39m enemy\u001b[39m.\u001b[39;49mgetDamage()\n\u001b[0;32m     10\u001b[0m     \u001b[39mself\u001b[39m\u001b[39m.\u001b[39mcurrentHp \u001b[39m-\u001b[39m\u001b[39m=\u001b[39m tmpDamage\n\u001b[0;32m     11\u001b[0m     \u001b[39mprint\u001b[39m(\u001b[39mf\u001b[39m\u001b[39m\"\u001b[39m\u001b[39m{\u001b[39;00m\u001b[39mself\u001b[39m\u001b[39m.\u001b[39mname\u001b[39m}\u001b[39;00m\u001b[39m recibe \u001b[39m\u001b[39m{\u001b[39;00mtmpDamage\u001b[39m}\u001b[39;00m\u001b[39m puntos de daño.\u001b[39m\u001b[39m\"\u001b[39m)\n",
            "Cell \u001b[1;32mIn[27], line 12\u001b[0m, in \u001b[0;36mCreature.getDamage\u001b[1;34m(self)\u001b[0m\n\u001b[0;32m     11\u001b[0m \u001b[39mdef\u001b[39;00m \u001b[39mgetDamage\u001b[39m(\u001b[39mself\u001b[39m):\n\u001b[1;32m---> 12\u001b[0m     \u001b[39mreturn\u001b[39;00m \u001b[39msum\u001b[39m(i\u001b[39m.\u001b[39mroll() \u001b[39mfor\u001b[39;00m i \u001b[39min\u001b[39;00m \u001b[39mself\u001b[39m\u001b[39m.\u001b[39mdamage)\n",
            "\u001b[1;31mTypeError\u001b[0m: 'int' object is not iterable"
          ]
        }
      ],
      "source": [
        "# Crear un personaje al azar\n",
        "def create_character():\n",
        "    names = [\"Bob\", \"Alice\", \"Charlie\", \"Dave\", \"Eve\"]\n",
        "    name = random.choice(names)\n",
        "    hd = random.randint(1, 5)\n",
        "    hp = random.randint(5, 11)\n",
        "    damage = [D(1,6),D(2,4)]\n",
        "    return Character(name, hd, hp, damage)\n",
        "\n",
        "# Crear un personaje al azar\n",
        "def create_monster():\n",
        "    names = [\"Paco\", \"Peco\", \"Pico\", \"Poco\", \"Puco\"]\n",
        "    name = random.choice(names)\n",
        "    hd = random.randint(1, 5)\n",
        "    damage = [D(1,4)]\n",
        "    return Monster(name, hd, damage)\n",
        "\n",
        "def create_dragon():\n",
        "    return Monster(\"Frost Dragon\", 10, [D(10,1)])\n",
        "\n",
        "# Simula una partida de combate\n",
        "def play_game():\n",
        "    player = create_character()\n",
        "    enemy = create_dragon()\n",
        "    \n",
        "    while not(player.OofA) and enemy.alive:\n",
        "        player.attack(enemy)\n",
        "        if not(enemy.alive):\n",
        "            print(f\"{enemy.name} ha sido derrotado.\")\n",
        "            break\n",
        "            \n",
        "        player.defendFrom(enemy)\n",
        "        if player.OofA == True:\n",
        "            print(f\"{player.name} ha sido derrotado.\")\n",
        "            break\n",
        "\n",
        "# Iniciar juego\n",
        "play_game()\n"
      ]
    },
    {
      "cell_type": "code",
      "execution_count": null,
      "metadata": {
        "id": "6yCvHBwXxMHM"
      },
      "outputs": [],
      "source": []
    }
  ],
  "metadata": {
    "colab": {
      "authorship_tag": "ABX9TyOc+CwpsEkMuG44KikDZ1nf",
      "include_colab_link": true,
      "provenance": []
    },
    "kernelspec": {
      "display_name": "Python 3",
      "language": "python",
      "name": "python3"
    },
    "language_info": {
      "codemirror_mode": {
        "name": "ipython",
        "version": 3
      },
      "file_extension": ".py",
      "mimetype": "text/x-python",
      "name": "python",
      "nbconvert_exporter": "python",
      "pygments_lexer": "ipython3",
      "version": "3.10.2"
    },
    "vscode": {
      "interpreter": {
        "hash": "fbfef0347548e22daf301ea83bd24d82fa42a02f621dc5a83fca2000769ca58d"
      }
    }
  },
  "nbformat": 4,
  "nbformat_minor": 0
}
