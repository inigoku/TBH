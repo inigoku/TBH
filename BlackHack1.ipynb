{
  "cells": [
    {
      "cell_type": "markdown",
      "metadata": {
        "colab_type": "text",
        "id": "view-in-github"
      },
      "source": [
        "<a href=\"https://colab.research.google.com/github/inigoku/TBH/blob/main/BlackHack1.ipynb\" target=\"_parent\"><img src=\"https://colab.research.google.com/assets/colab-badge.svg\" alt=\"Open In Colab\"/></a>"
      ]
    },
    {
      "cell_type": "markdown",
      "metadata": {
        "id": "MCG4x39XiKqJ"
      },
      "source": []
    },
    {
      "cell_type": "code",
      "execution_count": 6,
      "metadata": {
        "id": "1e3Ft25pKspn"
      },
      "outputs": [],
      "source": [
        "from modulos.util import *\n",
        "import random"
      ]
    },
    {
      "cell_type": "code",
      "execution_count": 7,
      "metadata": {
        "id": "uL3skSxuiUBQ"
      },
      "outputs": [],
      "source": [
        "# Clase base para criaturas\n",
        "class Creature:\n",
        "    def __init__(self, name, hd, hp, damage):\n",
        "        self.name = name\n",
        "        self.hd = hd\n",
        "        self.maxHp = hp\n",
        "        self.currentHp = hp\n",
        "        self.damage = damage\n",
        "        self.alive = True\n",
        "\n",
        "    def getDamage(self):\n",
        "        return sum(i.roll() for i in self.damage)"
      ]
    },
    {
      "cell_type": "code",
      "execution_count": 8,
      "metadata": {
        "id": "8oOjB5g1iMFR"
      },
      "outputs": [],
      "source": [
        "import re\n",
        "\n",
        "# Clase para crear personajes\n",
        "class Character(Creature):\n",
        "    def __init__(self, name, hd, hp, damage):\n",
        "        Creature.__init__(self, name, hd, hp, damage)\n",
        "        self.attribute = {}\n",
        "        self.attribute['STR'] = 15\n",
        "        self.OofA = False\n",
        "\n",
        "    def takeDamage(self, enemy, doubleDamage=False):\n",
        "        tmpDamage = enemy.getDamage()\n",
        "        if doubleDamage:\n",
        "          tmpDamage *= 2\n",
        "        self.currentHp -= tmpDamage\n",
        "        print(f\"{self.name} recibe {tmpDamage} puntos de daño.\")\n",
        "        if (self.currentHp <= 0):\n",
        "          print(f\"¡{self.name} cae inconsciente!\")\n",
        "          self.OofA = True\n",
        "          self.currentHp = 0\n",
        "\n",
        "    def attack(self, target):\n",
        "        print(f\"{self.name} ataca a {target.name}\")\n",
        "        checkResult = Check.attributeTest(self.attribute['STR'])\n",
        "        if checkResult == Result.CRITICAL:\n",
        "            print(f\"¡Toma!\")\n",
        "            target.takeDamage(self, doubleDamage=True)\n",
        "        elif checkResult == Result.PASS:\n",
        "            target.takeDamage(self)\n",
        "        else:\n",
        "            print(f\"¡{self.name} falla!\")\n",
        "\n",
        "    def defendFrom(self, enemy):\n",
        "        print(f\"{enemy.name} ataca a {self.name}\")\n",
        "        checkResult = Check.attributeTest(self.attribute['STR'])\n",
        "        if checkResult == Result.BOTCH:\n",
        "            print(f\"¡Toma!\")\n",
        "            self.takeDamage(enemy, doubleDamage=True)\n",
        "        elif checkResult == Result.FAIL:\n",
        "            self.takeDamage(enemy)\n",
        "        else:\n",
        "            print(f\"¡{enemy.name} falla!\")"
      ]
    },
    {
      "cell_type": "code",
      "execution_count": 9,
      "metadata": {
        "id": "JppSwBZQCq91"
      },
      "outputs": [],
      "source": [
        "# Clase para crear monstruos\n",
        "class Monster(Creature):\n",
        "    def __init__(self, name, hd, damage):\n",
        "        Creature.__init__(self, name, hd, D(hd,8).roll(), damage)\n",
        "\n",
        "    def takeDamage(self, enemy, doubleDamage=False):\n",
        "        tmpDamage = enemy.getDamage()\n",
        "        if doubleDamage:\n",
        "          tmpDamage *= 2\n",
        "        self.currentHp -= tmpDamage\n",
        "        print(f\"{self.name} recibe {tmpDamage} puntos de daño.\")\n",
        "        if (self.currentHp <= 0):\n",
        "          print(f\"¡{self.name} ha muerto!\")\n",
        "          self.alive = False\n",
        "          self.currentHp = 0"
      ]
    },
    {
      "cell_type": "code",
      "execution_count": 10,
      "metadata": {
        "colab": {
          "base_uri": "https://localhost:8080/"
        },
        "id": "AN5O2IZl2OmS",
        "outputId": "4a110e0b-05f7-45bd-a075-7a3751a5f9be"
      },
      "outputs": [
        {
          "name": "stdout",
          "output_type": "stream",
          "text": [
            "Dave ataca a Paco\n",
            "¡Dave falla!\n",
            "Paco ataca a Dave\n",
            "Dave recibe 4 puntos de daño.\n",
            "Dave ataca a Paco\n",
            "¡Dave falla!\n",
            "Paco ataca a Dave\n",
            "¡Paco falla!\n",
            "Dave ataca a Paco\n",
            "¡Toma!\n",
            "Paco recibe 14 puntos de daño.\n",
            "Paco ataca a Dave\n",
            "¡Paco falla!\n",
            "Dave ataca a Paco\n",
            "¡Dave falla!\n",
            "Paco ataca a Dave\n",
            "¡Paco falla!\n",
            "Dave ataca a Paco\n",
            "Paco recibe 6 puntos de daño.\n",
            "Paco ataca a Dave\n",
            "¡Paco falla!\n",
            "Dave ataca a Paco\n",
            "Paco recibe 7 puntos de daño.\n",
            "Paco ataca a Dave\n",
            "Dave recibe 4 puntos de daño.\n",
            "Dave ataca a Paco\n",
            "Paco recibe 8 puntos de daño.\n",
            "¡Paco ha muerto!\n",
            "Paco ha sido derrotado.\n"
          ]
        }
      ],
      "source": [
        "# Crear un personaje al azar\n",
        "def create_character():\n",
        "    names = [\"Bob\", \"Alice\", \"Charlie\", \"Dave\", \"Eve\"]\n",
        "    name = random.choice(names)\n",
        "    hd = random.randint(1, 5)\n",
        "    hp = random.randint(5, 11)\n",
        "    damage = [D(1,6),D(2,4)]\n",
        "    return Character(name, hd, hp, damage)\n",
        "\n",
        "# Crear un personaje al azar\n",
        "def create_monster():\n",
        "    names = [\"Paco\", \"Peco\", \"Pico\", \"Poco\", \"Puco\"]\n",
        "    name = random.choice(names)\n",
        "    hd = random.randint(1, 5)\n",
        "    damage = [D(1,4)]\n",
        "    return Monster(name, hd, damage)\n",
        "\n",
        "# Simula una partida de combate\n",
        "def play_game():\n",
        "    player = create_character()\n",
        "    enemy = create_monster()\n",
        "\n",
        "    while not(player.OofA) and enemy.alive:\n",
        "        player.attack(enemy)\n",
        "        if not(enemy.alive):\n",
        "            print(f\"{enemy.name} ha sido derrotado.\")\n",
        "            break\n",
        "\n",
        "        player.defendFrom(enemy)\n",
        "        if player.OofA == True:\n",
        "            print(f\"{player.name} ha sido derrotado.\")\n",
        "            break\n",
        "\n",
        "# Iniciar juego\n",
        "play_game()\n"
      ]
    }
  ],
  "metadata": {
    "colab": {
      "authorship_tag": "ABX9TyOc+CwpsEkMuG44KikDZ1nf",
      "include_colab_link": true,
      "provenance": []
    },
    "kernelspec": {
      "display_name": "Python 3",
      "language": "python",
      "name": "python3"
    },
    "language_info": {
      "codemirror_mode": {
        "name": "ipython",
        "version": 3
      },
      "file_extension": ".py",
      "mimetype": "text/x-python",
      "name": "python",
      "nbconvert_exporter": "python",
      "pygments_lexer": "ipython3",
      "version": "3.10.2"
    },
    "vscode": {
      "interpreter": {
        "hash": "fbfef0347548e22daf301ea83bd24d82fa42a02f621dc5a83fca2000769ca58d"
      }
    }
  },
  "nbformat": 4,
  "nbformat_minor": 0
}
