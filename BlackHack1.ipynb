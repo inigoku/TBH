{
  "nbformat": 4,
  "nbformat_minor": 0,
  "metadata": {
    "colab": {
      "provenance": [],
      "authorship_tag": "ABX9TyOc+CwpsEkMuG44KikDZ1nf",
      "include_colab_link": true
    },
    "kernelspec": {
      "name": "python3",
      "display_name": "Python 3"
    },
    "language_info": {
      "name": "python"
    }
  },
  "cells": [
    {
      "cell_type": "markdown",
      "metadata": {
        "id": "view-in-github",
        "colab_type": "text"
      },
      "source": [
        "<a href=\"https://colab.research.google.com/github/inigoku/TBH/blob/main/BlackHack1.ipynb\" target=\"_parent\"><img src=\"https://colab.research.google.com/assets/colab-badge.svg\" alt=\"Open In Colab\"/></a>"
      ]
    },
    {
      "cell_type": "markdown",
      "source": [],
      "metadata": {
        "id": "MCG4x39XiKqJ"
      }
    },
    {
      "cell_type": "code",
      "source": [
        "import random\n",
        "\n",
        "# Clase base para dados\n",
        "class D:\n",
        "  def __init__(self, nOfDice, nOfSides):\n",
        "    self.nOfDice = nOfDice\n",
        "    self.nOfSides = nOfSides\n",
        "\n",
        "  def roll(self):\n",
        "    return sum(random.randint(1, self.nOfSides) for i in range(self.nOfDice))"
      ],
      "metadata": {
        "id": "1e3Ft25pKspn"
      },
      "execution_count": null,
      "outputs": []
    },
    {
      "cell_type": "code",
      "source": [
        "# Clase base para criaturas\n",
        "class Creature:\n",
        "    def __init__(self, name, hd, hp, damage):\n",
        "        self.name = name\n",
        "        self.hd = hd\n",
        "        self.maxHp = hp\n",
        "        self.currentHp = hp\n",
        "        self.damage = damage\n",
        "        self.alive = True\n",
        "\n",
        "    def getDamage(self):\n",
        "        return sum(i.roll() for i in self.damage)"
      ],
      "metadata": {
        "id": "uL3skSxuiUBQ"
      },
      "execution_count": null,
      "outputs": []
    },
    {
      "cell_type": "code",
      "source": [
        "# Clase para crear personajes\n",
        "class Character(Creature):\n",
        "    def __init__(self, name, hd, hp, damage):\n",
        "        Creature.__init__(self, name, hd, hp, damage)\n",
        "        self.STR = 15\n",
        "        self.OofA = False\n",
        "\n",
        "    def takeDamage(self, enemy):\n",
        "        tmpDamage = enemy.getDamage()\n",
        "        self.currentHp -= tmpDamage\n",
        "        print(f\"{self.name} recibe {tmpDamage} puntos de daño.\")\n",
        "        if (self.currentHp <= 0):\n",
        "          print(f\"¡{self.name} cae inconsciente!\")\n",
        "          self.OofA = True\n",
        "          self.currentHp = 0\n",
        "\n",
        "    def attack(self, target):\n",
        "        print(f\"{self.name} ataca a {target.name}\")\n",
        "        if D(1,20).roll() < self.STR:\n",
        "          target.takeDamage(self)\n",
        "        else:\n",
        "          print(f\"¡{self.name} falla!\")\n",
        "\n",
        "    def defendFrom(self, enemy):\n",
        "        print(f\"{enemy.name} ataca a {self.name}\")\n",
        "        if D(1,20).roll() < self.STR:\n",
        "          self.takeDamage(enemy)\n",
        "        else:\n",
        "          print(f\"¡{enemy.name} falla!\")"
      ],
      "metadata": {
        "id": "8oOjB5g1iMFR"
      },
      "execution_count": null,
      "outputs": []
    },
    {
      "cell_type": "code",
      "source": [
        "# Clase para crear monstruos\n",
        "class Monster(Creature):\n",
        "    def __init__(self, name, hd, damage):\n",
        "        Creature.__init__(self, name, hd, D(hd,8).roll(), damage)\n",
        "\n",
        "    def takeDamage(self, enemy):\n",
        "        tmpDamage = enemy.getDamage()\n",
        "        self.currentHp -= tmpDamage\n",
        "        print(f\"{self.name} recibe {tmpDamage} puntos de daño.\")\n",
        "        if (self.currentHp <= 0):\n",
        "          print(f\"¡{self.name} ha muerto!\")\n",
        "          self.alive = False\n",
        "          self.currentHp = 0"
      ],
      "metadata": {
        "id": "JppSwBZQCq91"
      },
      "execution_count": null,
      "outputs": []
    },
    {
      "cell_type": "code",
      "execution_count": null,
      "metadata": {
        "colab": {
          "base_uri": "https://localhost:8080/"
        },
        "id": "AN5O2IZl2OmS",
        "outputId": "4a110e0b-05f7-45bd-a075-7a3751a5f9be"
      },
      "outputs": [
        {
          "output_type": "stream",
          "name": "stdout",
          "text": [
            "Dave ataca a Pico\n",
            "¡Dave falla!\n",
            "Pico ataca a Dave\n",
            "Dave recibe 4 puntos de daño.\n",
            "Dave ataca a Pico\n",
            "¡Dave falla!\n",
            "Pico ataca a Dave\n",
            "Dave recibe 2 puntos de daño.\n",
            "Dave ataca a Pico\n",
            "Pico recibe 7 puntos de daño.\n",
            "¡Pico ha muerto!\n",
            "Pico ha sido derrotado.\n"
          ]
        }
      ],
      "source": [
        "# Crear un personaje al azar\n",
        "def create_character():\n",
        "    names = [\"Bob\", \"Alice\", \"Charlie\", \"Dave\", \"Eve\"]\n",
        "    name = random.choice(names)\n",
        "    hd = random.randint(1, 5)\n",
        "    hp = random.randint(5, 11)\n",
        "    damage = [D(1,6),D(2,4)]\n",
        "    return Character(name, hd, hp, damage)\n",
        "\n",
        "# Crear un personaje al azar\n",
        "def create_monster():\n",
        "    names = [\"Paco\", \"Peco\", \"Pico\", \"Poco\", \"Puco\"]\n",
        "    name = random.choice(names)\n",
        "    hd = random.randint(1, 5)\n",
        "    damage = [D(1,4)]\n",
        "    return Monster(name, hd, damage)\n",
        "\n",
        "# Simula una partida de combate\n",
        "def play_game():\n",
        "    player = create_character()\n",
        "    enemy = create_monster()\n",
        "    \n",
        "    while not(player.OofA) and enemy.alive:\n",
        "        player.attack(enemy)\n",
        "        if not(enemy.alive):\n",
        "            print(f\"{enemy.name} ha sido derrotado.\")\n",
        "            break\n",
        "            \n",
        "        player.defendFrom(enemy)\n",
        "        if player.OofA == True:\n",
        "            print(f\"{player.name} ha sido derrotado.\")\n",
        "            break\n",
        "\n",
        "# Iniciar juego\n",
        "play_game()\n"
      ]
    },
    {
      "cell_type": "code",
      "source": [],
      "metadata": {
        "id": "6yCvHBwXxMHM"
      },
      "execution_count": null,
      "outputs": []
    }
  ]
}